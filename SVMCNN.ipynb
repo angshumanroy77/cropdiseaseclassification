{
 "cells": [
  {
   "cell_type": "markdown",
   "metadata": {},
   "source": [
    "# Configure Tensorflow for GPU\n",
    "## (Currently using Mobile RTX 2060)"
   ]
  },
  {
   "cell_type": "code",
   "execution_count": 1,
   "metadata": {
    "colab": {
     "base_uri": "https://localhost:8080/"
    },
    "executionInfo": {
     "elapsed": 6648,
     "status": "ok",
     "timestamp": 1625980131487,
     "user": {
      "displayName": "Angshuman Roy",
      "photoUrl": "https://lh3.googleusercontent.com/a-/AOh14Gj7FjztQdolcZG338HakqseG9v50DRrpvZl8rkCkw=s64",
      "userId": "16262231978967923724"
     },
     "user_tz": -330
    },
    "id": "pCNgQQXL32ys",
    "outputId": "405f129d-747f-4280-a3c8-189f052ad2ec",
    "scrolled": true
   },
   "outputs": [
    {
     "name": "stdout",
     "output_type": "stream",
     "text": [
      "WARNING:tensorflow:From <ipython-input-1-c0d6486469a8>:4: is_gpu_available (from tensorflow.python.framework.test_util) is deprecated and will be removed in a future version.\n",
      "Instructions for updating:\n",
      "Use `tf.config.list_physical_devices('GPU')` instead.\n"
     ]
    },
    {
     "data": {
      "text/plain": [
       "True"
      ]
     },
     "execution_count": 1,
     "metadata": {},
     "output_type": "execute_result"
    }
   ],
   "source": [
    "# Importing tensorflow (v2.5) and checking availabilty of GPU\n",
    "\n",
    "import tensorflow as tf\n",
    "tf.test.is_gpu_available(\n",
    "    cuda_only=False, min_cuda_compute_capability=None\n",
    ")"
   ]
  },
  {
   "cell_type": "code",
   "execution_count": 2,
   "metadata": {
    "colab": {
     "base_uri": "https://localhost:8080/"
    },
    "executionInfo": {
     "elapsed": 382,
     "status": "ok",
     "timestamp": 1625980171887,
     "user": {
      "displayName": "Angshuman Roy",
      "photoUrl": "https://lh3.googleusercontent.com/a-/AOh14Gj7FjztQdolcZG338HakqseG9v50DRrpvZl8rkCkw=s64",
      "userId": "16262231978967923724"
     },
     "user_tz": -330
    },
    "id": "dVzFKt3l32yt",
    "outputId": "01188c87-3fd8-40e9-ad4d-5e5318595911"
   },
   "outputs": [
    {
     "data": {
      "text/plain": [
       "[PhysicalDevice(name='/physical_device:GPU:0', device_type='GPU')]"
      ]
     },
     "execution_count": 2,
     "metadata": {},
     "output_type": "execute_result"
    }
   ],
   "source": [
    "# Checking current status of GPU\n",
    "\n",
    "tf.config.list_physical_devices('GPU')"
   ]
  },
  {
   "cell_type": "code",
   "execution_count": 3,
   "metadata": {
    "colab": {
     "base_uri": "https://localhost:8080/"
    },
    "executionInfo": {
     "elapsed": 408,
     "status": "ok",
     "timestamp": 1625980191893,
     "user": {
      "displayName": "Angshuman Roy",
      "photoUrl": "https://lh3.googleusercontent.com/a-/AOh14Gj7FjztQdolcZG338HakqseG9v50DRrpvZl8rkCkw=s64",
      "userId": "16262231978967923724"
     },
     "user_tz": -330
    },
    "id": "COYlBaJu32yu",
    "outputId": "4d20bf62-a966-485e-ed8c-58d399bdfa7a"
   },
   "outputs": [],
   "source": [
    "# Allocating a fraction (here 50%) of GPU memory for tensorflow\n",
    "\n",
    "from tensorflow.compat.v1 import ConfigProto\n",
    "from tensorflow.compat.v1 import InteractiveSession\n",
    "\n",
    "config = ConfigProto()\n",
    "config.gpu_options.per_process_gpu_memory_fraction = 0.5\n",
    "config.gpu_options.allow_growth = True\n",
    "session = InteractiveSession(config=config)"
   ]
  },
  {
   "cell_type": "markdown",
   "metadata": {},
   "source": [
    "# Model Building for CNN (Last layer as SVM)"
   ]
  },
  {
   "cell_type": "code",
   "execution_count": 4,
   "metadata": {
    "id": "Xn6JUvoJ32yu"
   },
   "outputs": [],
   "source": [
    "# Importing the libraries\n",
    "\n",
    "from tensorflow.keras.preprocessing.image import ImageDataGenerator\n",
    "import matplotlib.pyplot as plt"
   ]
  },
  {
   "cell_type": "code",
   "execution_count": 5,
   "metadata": {
    "colab": {
     "base_uri": "https://localhost:8080/",
     "height": 35
    },
    "executionInfo": {
     "elapsed": 3,
     "status": "ok",
     "timestamp": 1625980163417,
     "user": {
      "displayName": "Angshuman Roy",
      "photoUrl": "https://lh3.googleusercontent.com/a-/AOh14Gj7FjztQdolcZG338HakqseG9v50DRrpvZl8rkCkw=s64",
      "userId": "16262231978967923724"
     },
     "user_tz": -330
    },
    "id": "MiNdIvkv32yu",
    "outputId": "2dc61199-042b-4cf0-ba73-9fdda735a712"
   },
   "outputs": [
    {
     "data": {
      "text/plain": [
       "'2.5.0'"
      ]
     },
     "execution_count": 5,
     "metadata": {},
     "output_type": "execute_result"
    }
   ],
   "source": [
    "# Checking current version of tensorflow\n",
    "\n",
    "tf.__version__"
   ]
  },
  {
   "cell_type": "markdown",
   "metadata": {},
   "source": [
    "## Part 1 - Data Preprocessing"
   ]
  },
  {
   "cell_type": "code",
   "execution_count": 6,
   "metadata": {
    "id": "tDhXvtFu32yu"
   },
   "outputs": [],
   "source": [
    "# Preprocessing the Training set\n",
    "# Applying data agumentation technique (with rescaling train data set images)\n",
    "\n",
    "train_datagen = ImageDataGenerator(rescale = 1./255,\n",
    "                                   shear_range = 0.2,\n",
    "                                   zoom_range = 0.2,\n",
    "                                   horizontal_flip = True)\n"
   ]
  },
  {
   "cell_type": "code",
   "execution_count": 7,
   "metadata": {},
   "outputs": [
    {
     "name": "stdout",
     "output_type": "stream",
     "text": [
      "Found 22346 images belonging to 15 classes.\n",
      "Found 5685 images belonging to 15 classes.\n"
     ]
    }
   ],
   "source": [
    "training_set = train_datagen.flow_from_directory('Downloads/crop_data_set/train',\n",
    "                                                 target_size = (64, 64),\n",
    "                                                 batch_size = 32,\n",
    "                                                 class_mode = 'categorical')\n",
    "\n",
    "# Note: class_mode is 'binary' for 2 categories and is 'categorical' for more than 2 categories \n",
    "\n",
    "# Preprocessing the Test set\n",
    "# Rescaling test data set images\n",
    "\n",
    "test_datagen = ImageDataGenerator(rescale = 1./255)\n",
    "test_set = test_datagen.flow_from_directory('Downloads/crop_data_set/test',\n",
    "                                            target_size = (64, 64),\n",
    "                                            batch_size = 32,\n",
    "                                            class_mode = 'categorical')"
   ]
  },
  {
   "cell_type": "markdown",
   "metadata": {},
   "source": [
    "## Part 2 - Building CNN"
   ]
  },
  {
   "cell_type": "code",
   "execution_count": 8,
   "metadata": {
    "id": "7EtuseGt32yv"
   },
   "outputs": [],
   "source": [
    "# Importing 2D Convolution layer and Densely connected NN layer \n",
    "\n",
    "from tensorflow.keras.layers import Conv2D\n",
    "from tensorflow.keras.layers import Dense"
   ]
  },
  {
   "cell_type": "code",
   "execution_count": 9,
   "metadata": {
    "id": "QdfI5yVZ32yv"
   },
   "outputs": [],
   "source": [
    "# Importing regularizer that applies a L2 regularization penalty.\n",
    "# The L2 regularization penalty is computed as: loss = l2 * reduce_sum(square(x))\n",
    "\n",
    "from tensorflow.keras.regularizers import l2"
   ]
  },
  {
   "cell_type": "code",
   "execution_count": 10,
   "metadata": {
    "id": "7hdFQG0L32yv"
   },
   "outputs": [],
   "source": [
    "# Initialising the CNN\n",
    "\n",
    "cnn = tf.keras.models.Sequential()\n",
    "\n",
    "# Step 1 - Convolution\n",
    "\n",
    "cnn.add(tf.keras.layers.Conv2D(filters=32,padding=\"same\",kernel_size=3, activation='relu', strides=2, input_shape=[64, 64, 3]))\n",
    "\n",
    "# Step 2 - Pooling\n",
    "\n",
    "cnn.add(tf.keras.layers.MaxPool2D(pool_size=2, strides=2))\n",
    "\n",
    "# Adding a second convolutional layer\n",
    "\n",
    "cnn.add(tf.keras.layers.Conv2D(filters=32,padding='same',kernel_size=3, activation='relu'))\n",
    "cnn.add(tf.keras.layers.MaxPool2D(pool_size=2, strides=2))\n",
    "\n",
    "# Step 3 - Flattening\n",
    "\n",
    "cnn.add(tf.keras.layers.Flatten())\n",
    "\n",
    "# Step 4 - Full Connection\n",
    "\n",
    "cnn.add(tf.keras.layers.Dense(units=128, activation='relu'))\n",
    "\n",
    "# Step 5 - Output Layer For Multiple Classification (15 = number of categories)\n",
    "# Code for normal CNN based model: cnn.add(tf.keras.layers.Dense(units=1, activation='sigmoid'))\n",
    "# Updating Last layer of CNN model (adding regularizers) to integrate with SVM classification technique\n",
    "\n",
    "cnn.add(Dense(15, kernel_regularizer=tf.keras.regularizers.l2(0.01),activation='softmax'))\n",
    "\n",
    "# Note: For Binary Classification , activation function ='linear' due to linear SVM for binary"
   ]
  },
  {
   "cell_type": "code",
   "execution_count": 11,
   "metadata": {
    "id": "9W8133JZ32yv",
    "outputId": "3ef61774-768e-41d7-da5f-8e2e916e3b00"
   },
   "outputs": [
    {
     "name": "stdout",
     "output_type": "stream",
     "text": [
      "Model: \"sequential\"\n",
      "_________________________________________________________________\n",
      "Layer (type)                 Output Shape              Param #   \n",
      "=================================================================\n",
      "conv2d (Conv2D)              (None, 32, 32, 32)        896       \n",
      "_________________________________________________________________\n",
      "max_pooling2d (MaxPooling2D) (None, 16, 16, 32)        0         \n",
      "_________________________________________________________________\n",
      "conv2d_1 (Conv2D)            (None, 16, 16, 32)        9248      \n",
      "_________________________________________________________________\n",
      "max_pooling2d_1 (MaxPooling2 (None, 8, 8, 32)          0         \n",
      "_________________________________________________________________\n",
      "flatten (Flatten)            (None, 2048)              0         \n",
      "_________________________________________________________________\n",
      "dense (Dense)                (None, 128)               262272    \n",
      "_________________________________________________________________\n",
      "dense_1 (Dense)              (None, 15)                1935      \n",
      "=================================================================\n",
      "Total params: 274,351\n",
      "Trainable params: 274,351\n",
      "Non-trainable params: 0\n",
      "_________________________________________________________________\n"
     ]
    }
   ],
   "source": [
    "# Viewing the structure of our custom build model\n",
    "\n",
    "cnn.summary()"
   ]
  },
  {
   "cell_type": "markdown",
   "metadata": {},
   "source": [
    "## Part 3 - Training custom CNN model (with SVM)"
   ]
  },
  {
   "cell_type": "code",
   "execution_count": 12,
   "metadata": {
    "id": "9vLyxs1h32yv",
    "outputId": "90bfd77b-f104-4ebe-d273-e9008fce1a2a"
   },
   "outputs": [
    {
     "name": "stdout",
     "output_type": "stream",
     "text": [
      "Epoch 1/15\n",
      "699/699 [==============================] - 55s 72ms/step - loss: 1.1069 - accuracy: 0.3803 - val_loss: 1.0504 - val_accuracy: 0.5573\n",
      "Epoch 2/15\n",
      "699/699 [==============================] - 38s 54ms/step - loss: 1.0380 - accuracy: 0.6113 - val_loss: 1.0214 - val_accuracy: 0.6825\n",
      "Epoch 3/15\n",
      "699/699 [==============================] - 38s 54ms/step - loss: 1.0195 - accuracy: 0.6881 - val_loss: 1.0284 - val_accuracy: 0.6521\n",
      "Epoch 4/15\n",
      "699/699 [==============================] - 38s 54ms/step - loss: 1.0096 - accuracy: 0.7287 - val_loss: 1.0274 - val_accuracy: 0.6510\n",
      "Epoch 5/15\n",
      "699/699 [==============================] - 38s 54ms/step - loss: 1.0048 - accuracy: 0.7461 - val_loss: 1.0248 - val_accuracy: 0.6566\n",
      "Epoch 6/15\n",
      "699/699 [==============================] - 38s 54ms/step - loss: 0.9998 - accuracy: 0.7677 - val_loss: 0.9942 - val_accuracy: 0.7863\n",
      "Epoch 7/15\n",
      "699/699 [==============================] - 38s 54ms/step - loss: 0.9947 - accuracy: 0.7864 - val_loss: 0.9912 - val_accuracy: 0.7975\n",
      "Epoch 8/15\n",
      "699/699 [==============================] - 40s 58ms/step - loss: 0.9925 - accuracy: 0.7939 - val_loss: 0.9934 - val_accuracy: 0.7884\n",
      "Epoch 9/15\n",
      "699/699 [==============================] - 38s 54ms/step - loss: 0.9903 - accuracy: 0.8026 - val_loss: 0.9914 - val_accuracy: 0.7981\n",
      "Epoch 10/15\n",
      "699/699 [==============================] - 38s 54ms/step - loss: 0.9876 - accuracy: 0.8131 - val_loss: 0.9875 - val_accuracy: 0.8106\n",
      "Epoch 11/15\n",
      "699/699 [==============================] - 38s 54ms/step - loss: 0.9858 - accuracy: 0.8174 - val_loss: 1.0003 - val_accuracy: 0.7585\n",
      "Epoch 12/15\n",
      "699/699 [==============================] - 38s 54ms/step - loss: 0.9845 - accuracy: 0.8252 - val_loss: 0.9875 - val_accuracy: 0.8060\n",
      "Epoch 13/15\n",
      "699/699 [==============================] - 38s 55ms/step - loss: 0.9824 - accuracy: 0.8309 - val_loss: 0.9972 - val_accuracy: 0.7687\n",
      "Epoch 14/15\n",
      "699/699 [==============================] - 39s 56ms/step - loss: 0.9812 - accuracy: 0.8350 - val_loss: 0.9876 - val_accuracy: 0.8111\n",
      "Epoch 15/15\n",
      "699/699 [==============================] - 38s 54ms/step - loss: 0.9794 - accuracy: 0.8428 - val_loss: 0.9843 - val_accuracy: 0.8223s: 0.9\n"
     ]
    }
   ],
   "source": [
    "# Compiling the CNN (for multiple classifciation)\n",
    "# Note: for binary data set, set (for SVM)loss= hinge\n",
    "\n",
    "cnn.compile(optimizer = 'adam', loss = 'squared_hinge', metrics = ['accuracy'])\n",
    "\n",
    "# Training the CNN on the Training set and evaluating it on the Test set\n",
    "\n",
    "r=cnn.fit(x = training_set, validation_data = test_set, epochs = 15)\n",
    "\n",
    "# Note: It will take time to execute (With mobile RTX 2060 and 15 epochs it took ~15 mins. )"
   ]
  },
  {
   "cell_type": "markdown",
   "metadata": {},
   "source": [
    "# Plotting loss and accuracy"
   ]
  },
  {
   "cell_type": "code",
   "execution_count": 13,
   "metadata": {
    "id": "BasmdYQN32yw",
    "outputId": "ad00b6ba-aa78-4363-98b3-1bbbb584c004"
   },
   "outputs": [
    {
     "data": {
      "image/png": "[encoded data removed]",
      "text/plain": [
       "<Figure size 432x288 with 1 Axes>"
      ]
     },
     "metadata": {
      "needs_background": "light"
     },
     "output_type": "display_data"
    },
    {
     "data": {
      "image/png": "[encoded data removed]",
      "text/plain": [
       "<Figure size 432x288 with 1 Axes>"
      ]
     },
     "metadata": {
      "needs_background": "light"
     },
     "output_type": "display_data"
    },
    {
     "data": {
      "text/plain": [
       "<Figure size 432x288 with 0 Axes>"
      ]
     },
     "metadata": {},
     "output_type": "display_data"
    }
   ],
   "source": [
    "# Plot the loss\n",
    "\n",
    "import matplotlib.pyplot as plt\n",
    "plt.plot(r.history['loss'], label='train loss')\n",
    "plt.plot(r.history['val_loss'], label='val loss')\n",
    "plt.legend()\n",
    "plt.show()\n",
    "plt.savefig('LossVal_loss')\n",
    "\n",
    "# Plot the accuracy\n",
    "\n",
    "plt.plot(r.history['accuracy'], label='train acc')\n",
    "plt.plot(r.history['val_accuracy'], label='val acc')\n",
    "plt.legend()\n",
    "plt.show()\n",
    "plt.savefig('AccVal_acc')"
   ]
  },
  {
   "cell_type": "markdown",
   "metadata": {},
   "source": [
    "# Saving custom build model  "
   ]
  },
  {
   "cell_type": "code",
   "execution_count": 14,
   "metadata": {
    "id": "876fc7iUIWXK"
   },
   "outputs": [],
   "source": [
    "# Saving it as a h5 file\n",
    "\n",
    "\n",
    "from tensorflow.keras.models import load_model\n",
    "\n",
    "cnn.save('model_SVMCNN.h5')"
   ]
  },
  {
   "cell_type": "code",
   "execution_count": 15,
   "metadata": {
    "id": "7-4R1o_0Idqk"
   },
   "outputs": [],
   "source": [
    "# Importing saved model\n",
    "\n",
    "from tensorflow.keras.models import load_model\n",
    "model = load_model('model_SVMCNN.h5')"
   ]
  },
  {
   "cell_type": "code",
   "execution_count": 16,
   "metadata": {
    "id": "N411BqO_IgH1"
   },
   "outputs": [
    {
     "name": "stdout",
     "output_type": "stream",
     "text": [
      "Model: \"sequential\"\n",
      "_________________________________________________________________\n",
      "Layer (type)                 Output Shape              Param #   \n",
      "=================================================================\n",
      "conv2d (Conv2D)              (None, 32, 32, 32)        896       \n",
      "_________________________________________________________________\n",
      "max_pooling2d (MaxPooling2D) (None, 16, 16, 32)        0         \n",
      "_________________________________________________________________\n",
      "conv2d_1 (Conv2D)            (None, 16, 16, 32)        9248      \n",
      "_________________________________________________________________\n",
      "max_pooling2d_1 (MaxPooling2 (None, 8, 8, 32)          0         \n",
      "_________________________________________________________________\n",
      "flatten (Flatten)            (None, 2048)              0         \n",
      "_________________________________________________________________\n",
      "dense (Dense)                (None, 128)               262272    \n",
      "_________________________________________________________________\n",
      "dense_1 (Dense)              (None, 15)                1935      \n",
      "=================================================================\n",
      "Total params: 274,351\n",
      "Trainable params: 274,351\n",
      "Non-trainable params: 0\n",
      "_________________________________________________________________\n"
     ]
    }
   ],
   "source": [
    "model.summary()"
   ]
  },
  {
   "cell_type": "code",
   "execution_count": null,
   "metadata": {
    "id": "RieJrNPY32y1"
   },
   "outputs": [],
   "source": []
  }
 ],
 "metadata": {
  "accelerator": "GPU",
  "colab": {
   "collapsed_sections": [],
   "name": "SVMCNN.ipynb",
   "provenance": []
  },
  "kernelspec": {
   "display_name": "Python 3",
   "language": "python",
   "name": "python3"
  },
  "language_info": {
   "codemirror_mode": {
    "name": "ipython",
    "version": 3
   },
   "file_extension": ".py",
   "mimetype": "text/x-python",
   "name": "python",
   "nbconvert_exporter": "python",
   "pygments_lexer": "ipython3",
   "version": "3.9.5"
  }
 },
 "nbformat": 4,
 "nbformat_minor": 1
}
